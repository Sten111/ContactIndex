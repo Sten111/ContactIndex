{
 "cells": [
  {
   "cell_type": "code",
   "execution_count": null,
   "metadata": {},
   "outputs": [],
   "source": [
    "import pandas as pd\n",
    "import numpy as np\n",
    "import matplotlib.pyplot as plt\n",
    "from matplotlib.patches import Rectangle\n",
    "from sklearn.metrics import mean_squared_error\n",
    "\n",
    "#R values\n",
    "df_r_all = pd.read_csv(\"https://covid.ourworldindata.org/data/owid-covid-data.csv\")\n",
    "df_r_all.date = pd.to_datetime(df_r_all.date)"
   ]
  },
  {
   "cell_type": "code",
   "execution_count": null,
   "metadata": {},
   "outputs": [],
   "source": [
    "#google\n",
    "df2020 = pd.read_csv(\"Region_Mobility_Report_CSVs/2020_DE_Region_Mobility_Report.csv\")\n",
    "df2021 = pd.read_csv(\"Region_Mobility_Report_CSVs/2021_DE_Region_Mobility_Report.csv\")\n",
    "df2022 = pd.read_csv(\"Region_Mobility_Report_CSVs/2022_DE_Region_Mobility_Report.csv\")\n",
    "df = pd.concat([df2020,df2021,df2022])\n",
    "#apple\n",
    "df_apple= pd.read_csv(\"https://raw.githubusercontent.com/ActiveConclusion/COVID19_mobility/master/apple_reports/apple_mobility_report.csv\")\n",
    "df_apple.date = pd.to_datetime(df_apple.date)\n",
    "df.date = pd.to_datetime(df.date)\n"
   ]
  },
  {
   "cell_type": "code",
   "execution_count": null,
   "metadata": {},
   "outputs": [],
   "source": [
    "set(df_apple.country)"
   ]
  },
  {
   "cell_type": "code",
   "execution_count": null,
   "metadata": {},
   "outputs": [],
   "source": [
    "df_apple_ge = df_apple[df_apple['country']==\"Germany\"][df_apple['sub-region']==\"Total\"].set_index(\"date\")\n",
    "\n",
    "\n",
    "features_apple =  ['driving','transit','walking']\n",
    "df_apple_ge=df_apple_ge[features_apple]\n",
    "features = ['retail_and_recreation_percent_change_from_baseline',\n",
    "       'grocery_and_pharmacy_percent_change_from_baseline',\n",
    "       'parks_percent_change_from_baseline',\n",
    "       'transit_stations_percent_change_from_baseline',\n",
    "       'workplaces_percent_change_from_baseline',\n",
    "       'residential_percent_change_from_baseline']\n",
    "df_Ger = df[df[\"sub_region_1\"].isnull()].set_index('date')[features]\n",
    "\n",
    "df2 = pd.read_csv(\"cx_Germany.csv\")\n",
    "df2.day = pd.to_datetime(df2.day)\n",
    "\n",
    "\n",
    "\n",
    "df = df_Ger.join(df2.set_index(\"day\")).rolling(7).sum().multiply(1/7).shift(-3).dropna()\n",
    "\n",
    "df_a = df_apple_ge.join(df2.set_index(\"day\")).rolling(7).sum().multiply(1/7).shift(-3).dropna()\n",
    "\n",
    "df = df.join(df_apple_ge).dropna()\n",
    "\n",
    "#df = (df-df.shift(-1)).dropna()\n",
    "\n",
    "import xgboost as xgb\n",
    "dtrain = xgb.DMatrix(df[features+features_apple][:700], label=df['cx'][:700])\n",
    "dtest_reg = xgb.DMatrix(df[features+features_apple])\n",
    "\n",
    "# Define hyperparameters\n",
    "\n",
    "params = {\"objective\": \"reg:squarederror\", \"tree_method\": \"hist\"} #,\"booster\":\"gblinear\" }\n",
    " #,\"booster\":\"gblinear\" \n",
    "\n",
    "n = 20\n",
    "model = xgb.train(\n",
    "   params=params,\n",
    "   dtrain=dtrain,\n",
    "   num_boost_round=n,\n",
    ")"
   ]
  },
  {
   "cell_type": "code",
   "execution_count": null,
   "metadata": {},
   "outputs": [],
   "source": [
    "# Government response index\n",
    "df_gri= pd.read_csv(\"https://raw.githubusercontent.com/OxCGRT/covid-policy-tracker/master/data/OxCGRT_nat_latest.csv\")"
   ]
  },
  {
   "cell_type": "code",
   "execution_count": null,
   "metadata": {},
   "outputs": [],
   "source": [
    "df_gri"
   ]
  },
  {
   "cell_type": "code",
   "execution_count": null,
   "metadata": {},
   "outputs": [],
   "source": [
    "df_gri.Date = pd.to_datetime(df_gri.Date,format=\"%Y%m%d\")\n",
    "df_gri = df_gri.set_index('Date')\n",
    "#df_gri[df_gri['CountryName']=='Germany'].StringencyIndex_Average.plot()\n"
   ]
  },
  {
   "cell_type": "code",
   "execution_count": null,
   "metadata": {},
   "outputs": [],
   "source": []
  },
  {
   "cell_type": "code",
   "execution_count": null,
   "metadata": {},
   "outputs": [],
   "source": [
    "def predict_ctr(ctr_sh,ctr_ln,R=True,GRI=False,bis=\"2021-01-31\"):\n",
    "    df2020_c = pd.read_csv(\"Region_Mobility_Report_CSVs/2020_\"+ctr_sh+\"_Region_Mobility_Report.csv\")\n",
    "    df2021_c = pd.read_csv(\"Region_Mobility_Report_CSVs/2021_\"+ctr_sh+\"_Region_Mobility_Report.csv\")\n",
    "    df2022_c = pd.read_csv(\"Region_Mobility_Report_CSVs/2022_\"+ctr_sh+\"_Region_Mobility_Report.csv\")\n",
    "\n",
    "    df_c = pd.concat([df2020_c,df2021_c,df2022_c])\n",
    "    df_c.date = pd.to_datetime(df_c.date)\n",
    "\n",
    "    df_apple_c = df_apple[df_apple['country']==ctr_ln][df_apple['sub-region']==\"Total\"].set_index(\"date\")\n",
    "    df_apple_c=df_apple_c[features_apple]\n",
    "\n",
    "    df_c = df_c[df_c[\"sub_region_1\"].isnull()].set_index('date')[features]\n",
    "\n",
    "    df_r = df_r_all[df_r_all.location==ctr_ln][['date','reproduction_rate']].set_index('date').dropna()\n",
    "\n",
    "    df_c = df_c.join(df_apple_c).dropna()\n",
    "    df_c = df_c.join(df_r).dropna()\n",
    "    df_c = df_c.join(df_gri[df_gri['CountryName']==ctr_ln].StringencyIndex_Average).dropna()\n",
    "\n",
    "    dtest_reg = xgb.DMatrix(df_c[features+features_apple])\n",
    "\n",
    "    preds = model.predict(dtest_reg)\n",
    "\n",
    "    df_c['preds'] = preds\n",
    "    plt.figure()\n",
    "    df_c.preds.rolling(7).sum().multiply(1/7).shift(-3).plot(label=\"Contact Index\",linewidth=2)\n",
    "    top = max(df_c.preds.rolling(7).sum().multiply(1/7)[\"2020-04-15\":bis].values)\n",
    "    bot = min(df_c.preds.rolling(7).sum().multiply(1/7)[\"2020-04-15\":bis].values)\n",
    "    plt.ylim(0.8*bot,1.1*top)\n",
    "    print (bot,top)\n",
    "    plt.xlim(\"2020-02-15\",bis)\n",
    "    plt.ylabel(\"Contact Index\")\n",
    "    plt.title = ctr_ln\n",
    "    ax=plt.gca()\n",
    "    \n",
    "    if R:\n",
    "    #ax2.add_patch(Rectangle((50, 15), 1, 55,alpha=0.5))\n",
    "    #ax2.add_patch(Rectangle((304, 15), 1, 55,alpha=0.5))\n",
    "    #plt.scatter([\"2020-11-05\"]*50,np.arange(20,50,30./50),color=\"k\",s=1)\n",
    "    #plt.scatter([\"2021-01-06\"]*50,np.arange(20,50,30./50),color=\"k\",s=1)\n",
    "\n",
    "        ax2 = df_c.reproduction_rate.plot(secondary_y=True,label=\"effective R\",linestyle = \"--\")\n",
    "        top = max(df_c.reproduction_rate[\"2020-05-01\":\"2020-12-31\"])\n",
    "        bot = min(df_c.reproduction_rate[\"2020-05-01\":\"2020-12-31\"])\n",
    "        plt.ylim(0.9*bot,1.1*top)\n",
    "        plt.ylabel(\"Effective R\")\n",
    "        lines = ax.get_lines() + ax.right_ax.get_lines()\n",
    "        ax.legend(lines,[\"CX\",\"effective R\"],loc=1)\n",
    "#        plt.legend(loc=1)\n",
    "\n",
    "    if GRI:\n",
    "        ax2 = df_c.StringencyIndex_Average.dropna().plot(secondary_y=True,label=\"GRI\",linestyle = \"--\")\n",
    "        top = max(df_c.StringencyIndex_Average[\"2020-05-01\":bis].dropna())#[\"2020-05-01\":\"2020-12-31\"])\n",
    "        bot = min(df_c.StringencyIndex_Average[\"2020-05-01\":bis].dropna()) #[\"2020-05-01\":\"2020-12-31\"])\n",
    "        plt.ylim(1.02*top,0.8*bot)\n",
    "        plt.ylabel(\"GRI\")\n",
    "        lines = ax.get_lines() + ax.right_ax.get_lines()\n",
    "        ax.legend(lines,[\"CX\",\"GRI\"],loc=2)\n",
    "\n",
    "        \n",
    "        \n",
    "    ax.set_title(ctr_ln)\n"
   ]
  },
  {
   "cell_type": "code",
   "execution_count": null,
   "metadata": {
    "scrolled": false
   },
   "outputs": [],
   "source": [
    "ctrs = { \"FR\": \"France\", \"GB\": \"United Kingdom\",\"US\": \"United States\",\n",
    "       \"IT\": \"Italy\", \"ES\": \"Spain\"}\n",
    "\n",
    "#fig, axs = plt.subplots(2)\n",
    "#i=0\n",
    "for ctr_sh in ctrs:    \n",
    "    ctr_ln = ctrs[ctr_sh]\n",
    "    predict_ctr(ctr_sh,ctr_ln,False,True,\"2022-04-30\")\n"
   ]
  },
  {
   "cell_type": "code",
   "execution_count": null,
   "metadata": {},
   "outputs": [],
   "source": []
  }
 ],
 "metadata": {
  "kernelspec": {
   "display_name": "Python 3",
   "language": "python",
   "name": "python3"
  },
  "language_info": {
   "codemirror_mode": {
    "name": "ipython",
    "version": 3
   },
   "file_extension": ".py",
   "mimetype": "text/x-python",
   "name": "python",
   "nbconvert_exporter": "python",
   "pygments_lexer": "ipython3",
   "version": "3.7.2"
  }
 },
 "nbformat": 4,
 "nbformat_minor": 2
}
